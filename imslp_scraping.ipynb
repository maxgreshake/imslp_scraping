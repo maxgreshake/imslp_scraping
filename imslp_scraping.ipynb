{
 "cells": [
  {
   "cell_type": "code",
   "execution_count": 4,
   "id": "f1b605f3-299f-4df8-978e-5d41fdbf57b7",
   "metadata": {
    "tags": []
   },
   "outputs": [],
   "source": [
    "import requests\n",
    "from bs4 import BeautifulSoup\n",
    "from IPython.display import display, clear_output\n",
    "import pandas as pd\n",
    "import os\n",
    "import re\n",
    "import csv\n",
    "import glob"
   ]
  },
  {
   "cell_type": "code",
   "execution_count": 31,
   "id": "ee9ec027-1948-4694-91dd-6f1d6f6ecfee",
   "metadata": {
    "tags": []
   },
   "outputs": [],
   "source": [
    "# Dedication-scraping Funktion\n",
    "def dedication_scraping(target_composer):\n",
    "\n",
    "    #URL und directory bestimmen\n",
    "    url = target_composer\n",
    "    target_name = target_composer.split(\"Category:\")[1].strip()\n",
    "    csv_name = target_name.replace(\".\", \"\").replace(\"'\", \"\")\n",
    "    directory = 'imslp'\n",
    "    if not os.path.exists(directory):\n",
    "        os.makedirs(directory)\n",
    "        \n",
    "    # HTML-Inhalt scrapen\n",
    "    response = requests.get(url)\n",
    "    html_content = response.text\n",
    "    html_content_parsed = BeautifulSoup(html_content, 'html.parser')\n",
    "    dedicatee_element = html_content_parsed.find('h3', string = re.compile(r'As Dedicatee .*'))\n",
    "\n",
    "    if dedicatee_element:\n",
    "        dedicatee_div = dedicatee_element.parent\n",
    "        dedicatee_div = dedicatee_div.contents\n",
    "        dedicatee_div_content = ''.join(str(item) for item in dedicatee_div)\n",
    "    \n",
    "    else:\n",
    "        return \n",
    "\n",
    "    # HTML-Inhalt aufbereiten\n",
    "    dedicatee_div_content = re.sub(r'<a.*?>', '', dedicatee_div_content)\n",
    "    dedicatee_div_content = re.sub(r'</a>', '', dedicatee_div_content)\n",
    "    \n",
    "    content_pattern = r'<li>(.*?)<\\/li>'\n",
    "    dedications = re.findall(content_pattern, dedicatee_div_content)\n",
    "    \n",
    "    # Dedications-Tabelle erstellen\n",
    "    work = []\n",
    "    composer = []\n",
    "    dedication_pattern = r'(.+)\\s\\((.+)\\)'\n",
    "\n",
    "    for element in dedications:\n",
    "        match = re.match(dedication_pattern, element)\n",
    "        if match:\n",
    "            work.append(match.group(1))\n",
    "            composer.append(match.group(2))\n",
    "\n",
    "    dedications_data = pd.DataFrame({\"work\": work, \"composer\": composer})\n",
    "    \n",
    "    # Dedications-Tabelle aufbereiten\n",
    "    dedications_final = dedications_data\n",
    "\n",
    "    dedications_final.drop(\"work\", axis=1, inplace=True)\n",
    "    dedications_final.rename(columns={\"composer\": \"source\"}, inplace=True)\n",
    "    dedications_final[\"target\"] = target_name\n",
    "    dedications_final[\"weight\"] = dedications_final.groupby(\"source\")[\"source\"].transform(\"count\")\n",
    "    dedications_final.drop_duplicates(inplace=True)\n",
    "    dedications_final['source'] = dedications_final['source'].replace(' ', '_', regex=True)\n",
    "\n",
    "    \n",
    "    dedications_final.to_csv(\"imslp/dedications_\" + csv_name + \".csv\", index=False)"
   ]
  },
  {
   "cell_type": "code",
   "execution_count": 32,
   "id": "8f7b1df4-0645-4b12-9f73-e0863e621c5c",
   "metadata": {
    "tags": []
   },
   "outputs": [],
   "source": [
    "# Dedication-list Funktion\n",
    "def dedication_listing(folder_path):\n",
    "    \n",
    "    dedications_list = pd.DataFrame(columns=['source', 'target', 'weight', 'link'])\n",
    "    \n",
    "    # CSV_Inhalt zusammenfassen\n",
    "    for filename in os.listdir(folder_path):\n",
    "        if filename.endswith('.csv'):\n",
    "            file_path = os.path.join(folder_path, filename)\n",
    "    \n",
    "            fast_save = pd.read_csv(file_path)\n",
    "        \n",
    "            dedications_list = pd.concat([dedications_list, fast_save], ignore_index=True)\n",
    "            \n",
    "    # Links-Spalte ergänzen\n",
    "    dedications_list['link'] = 'https://imslp.org/wiki/Category:' + dedications_list['source']        \n",
    "    dedications_list.to_csv(\"./dedications_list.csv\", index=False)       "
   ]
  },
  {
   "cell_type": "code",
   "execution_count": 36,
   "id": "fcc334dd-847b-43e6-aa23-b7a238077c54",
   "metadata": {
    "tags": []
   },
   "outputs": [],
   "source": [
    "# Zusatz-Scraping Funktion\n",
    "def further_scraping(dedications):\n",
    "    \n",
    "    dedication_list = pd.read_csv(dedications)\n",
    "    dedication_list = dedication_list['link']\n",
    "    dedication_list = dedication_list.drop_duplicates()\n",
    "    \n",
    "    for entry in dedication_list:\n",
    "        dedication_scraping(entry)\n",
    "    "
   ]
  },
  {
   "cell_type": "code",
   "execution_count": 37,
   "id": "e280cc40-7584-4a02-b1cb-e1aca80ce387",
   "metadata": {},
   "outputs": [],
   "source": [
    "# Nodes-List Funktion\n",
    "def nodes(dedications):\n",
    "\n",
    "    nodes_list = pd.read_csv(dedications)\n",
    "    \n",
    "    nodes_list = nodes_list.drop_duplicates(subset=['source'], keep='first')\n",
    "    nodes_list = nodes_list[['source']].copy()\n",
    "    nodes_list['Id'] = range(1, len(nodes_list) + 1)\n",
    "    nodes_list.rename(columns={'source': 'Label'}, inplace=True)\n",
    "    nodes_list = nodes_list.reindex(columns=['Id', 'Label'])\n",
    "    nodes_list['Label'] = nodes_list['Label'].str.replace('_', ' ')\n",
    "    \n",
    "    nodes_list.to_csv(\"./nodes_list.csv\", index=False)     "
   ]
  },
  {
   "cell_type": "code",
   "execution_count": 38,
   "id": "de745430-252c-49ac-8d3c-ea43a9718dd0",
   "metadata": {
    "tags": []
   },
   "outputs": [],
   "source": [
    "# Edges-List Funktion\n",
    "def edges(nodes, dedications):\n",
    "    \n",
    "    edges_list = pd.read_csv(dedications)\n",
    "    nodes_list = pd.read_csv(nodes)\n",
    "    \n",
    "    edges_list.drop('link', axis=1, inplace=True)\n",
    "    edges_list['source'] = edges_list['source'].str.replace('_', ' ')\n",
    "    edges_list['target'] = edges_list['target'].str.replace('_', ' ')\n",
    "    \n",
    "    edges_list['source'] = edges_list['source'].map(nodes_list.set_index('Label')['Id'])\n",
    "    edges_list['target'] = edges_list['target'].map(nodes_list.set_index('Label')['Id'])\n",
    "    \n",
    "    edges_list.to_csv(\"./edges_list.csv\", index=False) "
   ]
  },
  {
   "cell_type": "code",
   "execution_count": 30,
   "id": "fe4cb798-54ee-4a9c-acf6-585bf3148c6e",
   "metadata": {
    "tags": []
   },
   "outputs": [],
   "source": [
    "# Weitere Schritte\n",
    "\n",
    "# Basis-Widmungen scrapen\n",
    "    # dedication_scraping('https://imslp.org/wiki/Category:Brahms,_Johannes')\n",
    "    # dedication_scraping('https://imslp.org/wiki/Category:Liszt,_Franz')\n",
    "\n",
    "#- repeat x-times -#\n",
    "\n",
    "# Widmungen zusammenfügen\n",
    "    # dedication_listing('imslp')\n",
    "\n",
    "# Weitere Widmungen scrapen\n",
    "    # further_scraping('dedications_list.csv')\n",
    "\n",
    "# Widmungen zusammenfügen\n",
    "    # dedication_listing('imslp')\n",
    "\n",
    "#- repeat x-times -#\n",
    "\n",
    "# Nodes- und Edges-Listen erstellen\n",
    "    # nodes('dedications_list.csv')\n",
    "    # edges('nodes_list.csv', 'dedications_list.csv')"
   ]
  }
 ],
 "metadata": {
  "kernelspec": {
   "display_name": "Python 3 (ipykernel)",
   "language": "python",
   "name": "python3"
  },
  "language_info": {
   "codemirror_mode": {
    "name": "ipython",
    "version": 3
   },
   "file_extension": ".py",
   "mimetype": "text/x-python",
   "name": "python",
   "nbconvert_exporter": "python",
   "pygments_lexer": "ipython3",
   "version": "3.10.8"
  }
 },
 "nbformat": 4,
 "nbformat_minor": 5
}
